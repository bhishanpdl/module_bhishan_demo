{
 "cells": [
  {
   "cell_type": "markdown",
   "metadata": {
    "toc": true
   },
   "source": [
    "<h1>Table of Contents<span class=\"tocSkip\"></span></h1>\n",
    "<div class=\"toc\"><ul class=\"toc-item\"><li><span><a href=\"#Imports\" data-toc-modified-id=\"Imports-1\"><span class=\"toc-item-num\">1&nbsp;&nbsp;</span>Imports</a></span></li><li><span><a href=\"#Validation\" data-toc-modified-id=\"Validation-2\"><span class=\"toc-item-num\">2&nbsp;&nbsp;</span>Validation</a></span></li><li><span><a href=\"#Horizontal-barplot\" data-toc-modified-id=\"Horizontal-barplot-3\"><span class=\"toc-item-num\">3&nbsp;&nbsp;</span>Horizontal barplot</a></span></li><li><span><a href=\"#Horizontal-barplots\" data-toc-modified-id=\"Horizontal-barplots-4\"><span class=\"toc-item-num\">4&nbsp;&nbsp;</span>Horizontal barplots</a></span><ul class=\"toc-item\"><li><span><a href=\"#Using-matplotlib-bar-container-(contains-N-rectangles)\" data-toc-modified-id=\"Using-matplotlib-bar-container-(contains-N-rectangles)-4.1\"><span class=\"toc-item-num\">4.1&nbsp;&nbsp;</span>Using matplotlib bar container (contains N rectangles)</a></span></li></ul></li><li><span><a href=\"#Using-ax.patches\" data-toc-modified-id=\"Using-ax.patches-5\"><span class=\"toc-item-num\">5&nbsp;&nbsp;</span>Using ax.patches</a></span></li></ul></div>"
   ]
  },
  {
   "cell_type": "markdown",
   "metadata": {},
   "source": [
    "# Imports"
   ]
  },
  {
   "cell_type": "code",
   "execution_count": 1,
   "metadata": {
    "ExecuteTime": {
     "end_time": "2022-05-12T13:01:23.655136Z",
     "start_time": "2022-05-12T13:01:23.522206Z"
    },
    "execution": {
     "iopub.execute_input": "2024-03-14T17:34:51.086021Z",
     "iopub.status.busy": "2024-03-14T17:34:51.086021Z",
     "iopub.status.idle": "2024-03-14T17:34:52.670868Z",
     "shell.execute_reply": "2024-03-14T17:34:52.670868Z",
     "shell.execute_reply.started": "2024-03-14T17:34:51.086021Z"
    }
   },
   "outputs": [],
   "source": [
    "import numpy as np\n",
    "import pandas as pd\n",
    "import matplotlib.pyplot as plt\n",
    "import seaborn as sns\n",
    "import os\n",
    "import sys\n",
    "import re"
   ]
  },
  {
   "cell_type": "code",
   "execution_count": 2,
   "metadata": {
    "ExecuteTime": {
     "end_time": "2022-05-12T13:01:23.670313Z",
     "start_time": "2022-05-12T13:01:23.655136Z"
    },
    "execution": {
     "iopub.execute_input": "2024-03-14T17:34:52.670868Z",
     "iopub.status.busy": "2024-03-14T17:34:52.670868Z",
     "iopub.status.idle": "2024-03-14T17:34:52.681086Z",
     "shell.execute_reply": "2024-03-14T17:34:52.680583Z",
     "shell.execute_reply.started": "2024-03-14T17:34:52.670868Z"
    }
   },
   "outputs": [],
   "source": [
    "# # my local library\n",
    "# import sys\n",
    "# import os\n",
    "# import platform\n",
    "\n",
    "# if platform.system() == 'Windows':\n",
    "#     p = \"~/OneDrive - AmerisourceBergen(ABC)/bhishan/\"\n",
    "# elif platform.system() == 'Darwin':\n",
    "#     p = \"~/Dropbox/a00_Bhishan_Modules/\"\n",
    "# sys.path.append(os.path.expanduser(p))\n",
    "# sys.path.append(os.path.expanduser(os.path.join(p,\"bhishan\")))\n",
    "# # from bhishan import bp"
   ]
  },
  {
   "cell_type": "code",
   "execution_count": 3,
   "metadata": {
    "ExecuteTime": {
     "end_time": "2022-05-12T13:01:23.675107Z",
     "start_time": "2022-05-12T13:01:23.671314Z"
    },
    "execution": {
     "iopub.execute_input": "2024-03-14T17:34:52.681086Z",
     "iopub.status.busy": "2024-03-14T17:34:52.681086Z",
     "iopub.status.idle": "2024-03-14T17:34:52.693270Z",
     "shell.execute_reply": "2024-03-14T17:34:52.693270Z",
     "shell.execute_reply.started": "2024-03-14T17:34:52.681086Z"
    }
   },
   "outputs": [],
   "source": [
    "# # my local library\n",
    "# import sys\n",
    "# from pathlib import Path\n",
    "# import platform\n",
    "\n",
    "# if platform.system() == 'Windows':\n",
    "#     p = Path(\"~/OneDrive - AmerisourceBergen(ABC)/bhishan\").expanduser()\n",
    "# elif platform.system() == 'Darwin':\n",
    "#     p = Path.home() / \"Dropbox/a00_Bhishan_Modules\"\n",
    "# sys.path.append(str(p))\n",
    "# sys.path.append(str(p) + \"/bhishan\")\n",
    "# from bhishan import bp"
   ]
  },
  {
   "cell_type": "code",
   "execution_count": 4,
   "metadata": {
    "ExecuteTime": {
     "end_time": "2022-05-12T13:01:25.296848Z",
     "start_time": "2022-05-12T13:01:23.675835Z"
    },
    "execution": {
     "iopub.execute_input": "2024-03-14T17:34:52.694404Z",
     "iopub.status.busy": "2024-03-14T17:34:52.694404Z",
     "iopub.status.idle": "2024-03-14T17:34:53.856335Z",
     "shell.execute_reply": "2024-03-14T17:34:53.856335Z",
     "shell.execute_reply.started": "2024-03-14T17:34:52.694404Z"
    }
   },
   "outputs": [],
   "source": [
    "# my local library\n",
    "import sys\n",
    "import os\n",
    "\n",
    "p = \"~/OneDrive - AmerisourceBergen(ABC)/bhishan/\"\n",
    "sys.path.append(os.path.expanduser(p))\n",
    "sys.path.append(os.path.expanduser(os.path.join(p,\"bhishan\")))\n",
    "from bhishan import bp"
   ]
  },
  {
   "cell_type": "code",
   "execution_count": 5,
   "metadata": {
    "ExecuteTime": {
     "end_time": "2022-05-12T13:01:25.312584Z",
     "start_time": "2022-05-12T13:01:25.298016Z"
    },
    "execution": {
     "iopub.execute_input": "2024-03-14T17:34:53.857339Z",
     "iopub.status.busy": "2024-03-14T17:34:53.857339Z",
     "iopub.status.idle": "2024-03-14T17:34:53.861650Z",
     "shell.execute_reply": "2024-03-14T17:34:53.861131Z",
     "shell.execute_reply.started": "2024-03-14T17:34:53.857339Z"
    }
   },
   "outputs": [
    {
     "name": "stdout",
     "output_type": "stream",
     "text": [
      "C:\\Users\\a126291/OneDrive - AmerisourceBergen(ABC)/bhishan\\bhishan\\bp.py\n"
     ]
    }
   ],
   "source": [
    "print(bp.__file__)"
   ]
  },
  {
   "cell_type": "code",
   "execution_count": 6,
   "metadata": {
    "ExecuteTime": {
     "end_time": "2022-05-12T13:01:25.567211Z",
     "start_time": "2022-05-12T13:01:25.314090Z"
    },
    "execution": {
     "iopub.execute_input": "2024-03-14T17:34:53.863278Z",
     "iopub.status.busy": "2024-03-14T17:34:53.862697Z",
     "iopub.status.idle": "2024-03-14T17:34:54.090627Z",
     "shell.execute_reply": "2024-03-14T17:34:54.090627Z",
     "shell.execute_reply.started": "2024-03-14T17:34:53.863278Z"
    }
   },
   "outputs": [
    {
     "name": "stdout",
     "output_type": "stream",
     "text": [
      "Author: Bhishan Poudel\n",
      "\n",
      "Python implementation: CPython\n",
      "Python version       : 3.11.7\n",
      "IPython version      : 8.20.0\n",
      "\n",
      "Compiler    : MSC v.1937 64 bit (AMD64)\n",
      "OS          : Windows\n",
      "Release     : 10\n",
      "Machine     : AMD64\n",
      "Processor   : Intel64 Family 6 Model 141 Stepping 1, GenuineIntel\n",
      "CPU cores   : 16\n",
      "Architecture: 64bit\n",
      "\n",
      "sys           : 3.11.7 (tags/v3.11.7:fa7a6f2, Dec  4 2023, 19:24:49) [MSC v.1937 64 bit (AMD64)]\n",
      "numpy         : 1.26.3\n",
      "seaborn       : 0.13.0\n",
      "bhishan       : 0.9.1\n",
      "matplotlib    : 3.8.2\n",
      "pandas        : 1.5.3\n",
      "plotly_express: 0.4.1\n",
      "re            : 2.2.1\n",
      "\n"
     ]
    }
   ],
   "source": [
    "import plotly_express as px\n",
    "\n",
    "%load_ext autoreload\n",
    "%load_ext watermark\n",
    "\n",
    "%autoreload 2\n",
    "%watermark -a \"Bhishan Poudel\" -d -v -m\n",
    "%watermark -iv"
   ]
  },
  {
   "cell_type": "markdown",
   "metadata": {},
   "source": [
    "# Validation"
   ]
  },
  {
   "cell_type": "code",
   "execution_count": 7,
   "metadata": {
    "ExecuteTime": {
     "end_time": "2022-05-12T13:01:25.738879Z",
     "start_time": "2022-05-12T13:01:25.570045Z"
    },
    "execution": {
     "iopub.execute_input": "2024-03-14T17:34:54.092850Z",
     "iopub.status.busy": "2024-03-14T17:34:54.090627Z",
     "iopub.status.idle": "2024-03-14T17:34:54.225608Z",
     "shell.execute_reply": "2024-03-14T17:34:54.225608Z",
     "shell.execute_reply.started": "2024-03-14T17:34:54.092850Z"
    }
   },
   "outputs": [
    {
     "data": {
      "text/html": [
       "<div>\n",
       "<style scoped>\n",
       "    .dataframe tbody tr th:only-of-type {\n",
       "        vertical-align: middle;\n",
       "    }\n",
       "\n",
       "    .dataframe tbody tr th {\n",
       "        vertical-align: top;\n",
       "    }\n",
       "\n",
       "    .dataframe thead th {\n",
       "        text-align: right;\n",
       "    }\n",
       "</style>\n",
       "<table border=\"1\" class=\"dataframe\">\n",
       "  <thead>\n",
       "    <tr style=\"text-align: right;\">\n",
       "      <th></th>\n",
       "      <th>survived</th>\n",
       "      <th>pclass</th>\n",
       "      <th>sex</th>\n",
       "      <th>age</th>\n",
       "      <th>sibsp</th>\n",
       "      <th>parch</th>\n",
       "      <th>fare</th>\n",
       "      <th>embarked</th>\n",
       "      <th>class</th>\n",
       "      <th>who</th>\n",
       "      <th>adult_male</th>\n",
       "      <th>deck</th>\n",
       "      <th>embark_town</th>\n",
       "      <th>alive</th>\n",
       "      <th>alone</th>\n",
       "    </tr>\n",
       "  </thead>\n",
       "  <tbody>\n",
       "    <tr>\n",
       "      <th>0</th>\n",
       "      <td>0</td>\n",
       "      <td>3</td>\n",
       "      <td>male</td>\n",
       "      <td>22.0</td>\n",
       "      <td>1</td>\n",
       "      <td>0</td>\n",
       "      <td>7.2500</td>\n",
       "      <td>S</td>\n",
       "      <td>Third</td>\n",
       "      <td>man</td>\n",
       "      <td>True</td>\n",
       "      <td>NaN</td>\n",
       "      <td>Southampton</td>\n",
       "      <td>no</td>\n",
       "      <td>False</td>\n",
       "    </tr>\n",
       "    <tr>\n",
       "      <th>1</th>\n",
       "      <td>1</td>\n",
       "      <td>1</td>\n",
       "      <td>female</td>\n",
       "      <td>38.0</td>\n",
       "      <td>1</td>\n",
       "      <td>0</td>\n",
       "      <td>71.2833</td>\n",
       "      <td>C</td>\n",
       "      <td>First</td>\n",
       "      <td>woman</td>\n",
       "      <td>False</td>\n",
       "      <td>C</td>\n",
       "      <td>Cherbourg</td>\n",
       "      <td>yes</td>\n",
       "      <td>False</td>\n",
       "    </tr>\n",
       "  </tbody>\n",
       "</table>\n",
       "</div>"
      ],
      "text/plain": [
       "   survived  pclass     sex   age  sibsp  parch     fare embarked  class  \\\n",
       "0         0       3    male  22.0      1      0   7.2500        S  Third   \n",
       "1         1       1  female  38.0      1      0  71.2833        C  First   \n",
       "\n",
       "     who  adult_male deck  embark_town alive  alone  \n",
       "0    man        True  NaN  Southampton    no  False  \n",
       "1  woman       False    C    Cherbourg   yes  False  "
      ]
     },
     "execution_count": 7,
     "metadata": {},
     "output_type": "execute_result"
    }
   ],
   "source": [
    "df = sns.load_dataset('titanic')\n",
    "df.head(2)"
   ]
  },
  {
   "cell_type": "markdown",
   "metadata": {},
   "source": [
    "# Horizontal barplot"
   ]
  },
  {
   "cell_type": "code",
   "execution_count": null,
   "metadata": {},
   "outputs": [],
   "source": []
  }
 ],
 "metadata": {
  "kernelspec": {
   "display_name": "Python 3 (ipykernel)",
   "language": "python",
   "name": "python3"
  },
  "language_info": {
   "codemirror_mode": {
    "name": "ipython",
    "version": 3
   },
   "file_extension": ".py",
   "mimetype": "text/x-python",
   "name": "python",
   "nbconvert_exporter": "python",
   "pygments_lexer": "ipython3",
   "version": "3.11.7"
  },
  "toc": {
   "base_numbering": 1,
   "nav_menu": {},
   "number_sections": true,
   "sideBar": true,
   "skip_h1_title": false,
   "title_cell": "Table of Contents",
   "title_sidebar": "Contents",
   "toc_cell": true,
   "toc_position": {},
   "toc_section_display": true,
   "toc_window_display": false
  },
  "varInspector": {
   "cols": {
    "lenName": 16,
    "lenType": 16,
    "lenVar": 40
   },
   "kernels_config": {
    "python": {
     "delete_cmd_postfix": "",
     "delete_cmd_prefix": "del ",
     "library": "var_list.py",
     "varRefreshCmd": "print(var_dic_list())"
    },
    "r": {
     "delete_cmd_postfix": ") ",
     "delete_cmd_prefix": "rm(",
     "library": "var_list.r",
     "varRefreshCmd": "cat(var_dic_list()) "
    }
   },
   "types_to_exclude": [
    "module",
    "function",
    "builtin_function_or_method",
    "instance",
    "_Feature"
   ],
   "window_display": false
  }
 },
 "nbformat": 4,
 "nbformat_minor": 4
}
